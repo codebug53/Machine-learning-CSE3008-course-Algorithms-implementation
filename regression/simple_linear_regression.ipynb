This folder consists of regression models
