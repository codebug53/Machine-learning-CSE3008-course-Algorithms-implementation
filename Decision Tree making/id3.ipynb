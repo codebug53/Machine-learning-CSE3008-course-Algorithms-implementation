{
 "cells": [
  {
   "cell_type": "markdown",
   "metadata": {
    "id": "2CLJu4GeP_QU"
   },
   "source": [
    "<h1 style=\"text-align: center;\"\">Implementation of a classification tree using ID3(Iterative dichotomiser)</h1>"
   ]
  },
  {
   "cell_type": "markdown",
   "metadata": {},
   "source": [
    "<h3>About Iterative dichotomiser</h3>\n",
    "<P> The <b>Iterative dichotomiser algorithm</b> is a decision tree algorithm used for classification. The steps in Id3 include selecting\n",
    "attributes on the basis of <b>information gain</b> function calculated on the basis of entorpy using probability of success or failure or the attribute specified. This notebook guides throught the steps to achieve the Id3 classification using python code. To study more theoritically about Id3 <a href='https://www.researchgate.net/publication/341884258_Iterative_Dichotomizer_3_ID3_Decision_Tree_A_Machine_Learning_Algorithm_for_Data_Classification_and_Predictive_Analysis'>Read this reasearch paper</a></P>"
   ]
  },
  {
   "cell_type": "markdown",
   "metadata": {},
   "source": [
    "<h3><b>Requirements</h3>\n",
    "<h4><b>This model uses the following libraries:</h4>\n",
    "<p><i>numpy, pandas, graphviz </i> and <i>collections</i> please do ensure that the above dependencies are installed in your local machine<br>"
   ]
  },
  {
   "cell_type": "code",
   "execution_count": 27,
   "metadata": {
    "id": "uPcN-I5xNKDo"
   },
   "outputs": [],
   "source": [
    "import numpy as np\n",
    "import pandas as pd\n",
    "from graphviz import Digraph\n",
    "from IPython.display import Image\n",
    "from collections import deque\n"
   ]
  },
  {
   "cell_type": "code",
   "execution_count": 28,
   "metadata": {
    "id": "Yk4D8OEgNUIB"
   },
   "outputs": [],
   "source": [
    "def entropy(y):\n",
    "    values, counts = np.unique(y, return_counts=True)\n",
    "    prob = counts / counts.sum()\n",
    "    return -np.sum(prob * np.log2(prob))"
   ]
  },
  {
   "cell_type": "code",
   "execution_count": 29,
   "metadata": {
    "id": "Kr9Y0m1fNWqh"
   },
   "outputs": [],
   "source": [
    "def information_gain(df, feature, target):\n",
    "    total_entropy = entropy(df[target])\n",
    "    values, counts = np.unique(df[feature], return_counts=True)\n",
    "\n",
    "    weighted_entropy = sum(\n",
    "        (counts[i] / sum(counts)) * entropy(df[df[feature] == values[i]][target])\n",
    "        for i in range(len(values))\n",
    "    )\n",
    "\n",
    "    return total_entropy - weighted_entropy"
   ]
  },
  {
   "cell_type": "code",
   "execution_count": 30,
   "metadata": {
    "id": "px_7mT7oNXX7"
   },
   "outputs": [],
   "source": [
    "def find_best_attribute(df, target):\n",
    "    attributes = df.columns[:-1]  # Exclude target column\n",
    "    return max(attributes, key=lambda attr: information_gain(df, attr, target))"
   ]
  },
  {
   "cell_type": "code",
   "execution_count": 31,
   "metadata": {
    "id": "4ec5_9scNXpu"
   },
   "outputs": [],
   "source": [
    "def get_subtable(df, node, value):\n",
    "    return df[df[node] == value].drop(columns=[node])"
   ]
  },
  {
   "cell_type": "code",
   "execution_count": 32,
   "metadata": {
    "id": "z4fBFm9gNmAB"
   },
   "outputs": [],
   "source": [
    "def build_tree(df, tree=None):\n",
    "    target = df.keys()[-1]  # Target column\n",
    "    node = find_best_attribute(df, target)\n",
    "    values = np.unique(df[node])\n",
    "\n",
    "    if tree is None:\n",
    "        tree = {}\n",
    "        tree[node] = {}\n",
    "\n",
    "    for value in values:\n",
    "        subtable = get_subtable(df, node, value)\n",
    "        unique_targets, counts = np.unique(subtable[target], return_counts=True)\n",
    "\n",
    "        if len(counts) == 1:  # If pure, stop recursion\n",
    "            tree[node][value] = unique_targets[0]\n",
    "        else:\n",
    "            tree[node][value] = build_tree(subtable)\n",
    "\n",
    "    return tree"
   ]
  },
  {
   "cell_type": "code",
   "execution_count": 45,
   "metadata": {
    "id": "Dl9eYUuxNmT7"
   },
   "outputs": [],
   "source": [
    "\n",
    "def plot_tree_bfs(tree):\n",
    "    graph = Digraph(format='png')\n",
    "    graph.attr('node', shape='rect', style='filled', color='#D4AF37', fontcolor='black')  # Blue nodes\n",
    "\n",
    "    queue = deque([(None, None, tree)])  # (Parent, Edge Label, Subtree)\n",
    "\n",
    "    while queue:\n",
    "        parent, edge_label, subtree = queue.popleft()\n",
    "\n",
    "        for key in subtree.keys():\n",
    "            graph.node(key, key)  # Create node\n",
    "\n",
    "            if parent is not None:\n",
    "                graph.edge(parent, key, label=edge_label)\n",
    "\n",
    "            for value, child in subtree[key].items():\n",
    "                if isinstance(child, dict):  # Internal node\n",
    "                    queue.append((key, value, child))\n",
    "                else:  # Leaf node\n",
    "                    leaf_label = str(child)\n",
    "                    graph.node(leaf_label, leaf_label, shape='ellipse', color='#D4AF37', fontcolor='black')  # Blue leaves\n",
    "                    graph.edge(key, leaf_label, label=value)\n",
    "\n",
    "    return graph"
   ]
  },
  {
   "cell_type": "code",
   "execution_count": 46,
   "metadata": {
    "colab": {
     "base_uri": "https://localhost:8080/",
     "height": 308
    },
    "id": "QHBGY7qHNsNQ",
    "outputId": "c20b5684-c1c7-40fa-e7c6-115461157ec8"
   },
   "outputs": [
    {
     "data": {
      "image/png": "[encoded data removed]",
      "text/plain": [
       "<IPython.core.display.Image object>"
      ]
     },
     "execution_count": 46,
     "metadata": {},
     "output_type": "execute_result"
    }
   ],
   "source": [
    "data = {\n",
    "    'Outlook':    ['Sunny', 'Sunny', 'Overcast', 'Rain', 'Rain', 'Rain', 'Overcast', 'Sunny', 'Sunny', 'Rain', 'Sunny', 'Overcast', 'Overcast', 'Rain'],\n",
    "    'Humidity':   ['High', 'High', 'High', 'High', 'Normal', 'Normal', 'Normal', 'High', 'Normal', 'Normal', 'Normal', 'High', 'Normal', 'High'],\n",
    "    'Wind':       ['Weak', 'Strong', 'Weak', 'Weak', 'Weak', 'Strong', 'Strong', 'Weak', 'Weak', 'Weak', 'Strong', 'Strong', 'Weak', 'Strong'],\n",
    "    'PlayTennis': ['NO', 'NO', 'YES', 'YES', 'YES', 'NO', 'YES', 'NO', 'YES', 'YES', 'YES', 'YES', 'YES', 'NO']\n",
    "}\n",
    "\n",
    "df = pd.DataFrame(data)\n",
    "\n",
    "# Build decision tree\n",
    "tree = build_tree(df)\n",
    "\n",
    "# Generate and display the decision tree visualization (BFS)\n",
    "graph = plot_tree_bfs(tree)\n",
    "graph.render('/content/decision_tree')  # Save as PNG\n",
    "Image(filename='/content/decision_tree.png')"
   ]
  }
 ],
 "metadata": {
  "colab": {
   "provenance": []
  },
  "kernelspec": {
   "display_name": "Python 3 (ipykernel)",
   "language": "python",
   "name": "python3"
  },
  "language_info": {
   "codemirror_mode": {
    "name": "ipython",
    "version": 3
   },
   "file_extension": ".py",
   "mimetype": "text/x-python",
   "name": "python",
   "nbconvert_exporter": "python",
   "pygments_lexer": "ipython3",
   "version": "3.13.0"
  }
 },
 "nbformat": 4,
 "nbformat_minor": 4
}
